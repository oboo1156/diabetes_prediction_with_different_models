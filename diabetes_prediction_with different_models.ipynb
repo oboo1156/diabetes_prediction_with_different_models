{
 "cells": [
  {
   "cell_type": "markdown",
   "metadata": {},
   "source": [
    "# Diabetes Prediction\n",
    "1. Import necessary libraries\n",
    "2. Exploratory Data Analysis\n",
    "3. Data Preprocessing (Scaling with StandardScaler and train test splitting)\n",
    "4. Model Architecture (Sequential Model, Support Vector Classifier)\n",
    "5. Train Dataset\n",
    "6. Evaluate the data( accuracy_score, evaluate, confusion_matrix, roc_curve )\n",
    "7. Predict"
   ]
  },
  {
   "cell_type": "code",
   "execution_count": 1,
   "metadata": {},
   "outputs": [],
   "source": [
    "#Importing necessary libraries\n",
    "\n",
    "import pandas as pd\n",
    "import numpy as np\n",
    "import seaborn as sns\n",
    "import matplotlib.pyplot as plt\n",
    "from sklearn.preprocessing import StandardScaler\n",
    "from sklearn.model_selection import train_test_split\n",
    "from keras.models import Sequential\n",
    "from keras.layers import Dense\n",
    "from sklearn import svm\n",
    "from sklearn.metrics import accuracy_score, confusion_matrix, roc_curve\n",
    "import warnings\n",
    "warnings.filterwarnings('ignore')\n",
    "\n",
    "#play around by changing last unit to softmax and not sigmoid\n",
    "#then model.predict and model.predict_classes\n",
    "#pd.Dataframe(y_test,y_test_pred)"
   ]
  },
  {
   "cell_type": "code",
   "execution_count": 2,
   "metadata": {},
   "outputs": [
    {
     "data": {
      "text/html": [
       "<div>\n",
       "<style scoped>\n",
       "    .dataframe tbody tr th:only-of-type {\n",
       "        vertical-align: middle;\n",
       "    }\n",
       "\n",
       "    .dataframe tbody tr th {\n",
       "        vertical-align: top;\n",
       "    }\n",
       "\n",
       "    .dataframe thead th {\n",
       "        text-align: right;\n",
       "    }\n",
       "</style>\n",
       "<table border=\"1\" class=\"dataframe\">\n",
       "  <thead>\n",
       "    <tr style=\"text-align: right;\">\n",
       "      <th></th>\n",
       "      <th>Pregnancies</th>\n",
       "      <th>Glucose</th>\n",
       "      <th>BloodPressure</th>\n",
       "      <th>SkinThickness</th>\n",
       "      <th>Insulin</th>\n",
       "      <th>BMI</th>\n",
       "      <th>DiabetesPedigreeFunction</th>\n",
       "      <th>Age</th>\n",
       "      <th>Outcome</th>\n",
       "    </tr>\n",
       "  </thead>\n",
       "  <tbody>\n",
       "    <tr>\n",
       "      <th>763</th>\n",
       "      <td>10</td>\n",
       "      <td>101</td>\n",
       "      <td>76</td>\n",
       "      <td>48</td>\n",
       "      <td>180</td>\n",
       "      <td>32.9</td>\n",
       "      <td>0.171</td>\n",
       "      <td>63</td>\n",
       "      <td>0</td>\n",
       "    </tr>\n",
       "    <tr>\n",
       "      <th>764</th>\n",
       "      <td>2</td>\n",
       "      <td>122</td>\n",
       "      <td>70</td>\n",
       "      <td>27</td>\n",
       "      <td>0</td>\n",
       "      <td>36.8</td>\n",
       "      <td>0.340</td>\n",
       "      <td>27</td>\n",
       "      <td>0</td>\n",
       "    </tr>\n",
       "    <tr>\n",
       "      <th>765</th>\n",
       "      <td>5</td>\n",
       "      <td>121</td>\n",
       "      <td>72</td>\n",
       "      <td>23</td>\n",
       "      <td>112</td>\n",
       "      <td>26.2</td>\n",
       "      <td>0.245</td>\n",
       "      <td>30</td>\n",
       "      <td>0</td>\n",
       "    </tr>\n",
       "    <tr>\n",
       "      <th>766</th>\n",
       "      <td>1</td>\n",
       "      <td>126</td>\n",
       "      <td>60</td>\n",
       "      <td>0</td>\n",
       "      <td>0</td>\n",
       "      <td>30.1</td>\n",
       "      <td>0.349</td>\n",
       "      <td>47</td>\n",
       "      <td>1</td>\n",
       "    </tr>\n",
       "    <tr>\n",
       "      <th>767</th>\n",
       "      <td>1</td>\n",
       "      <td>93</td>\n",
       "      <td>70</td>\n",
       "      <td>31</td>\n",
       "      <td>0</td>\n",
       "      <td>30.4</td>\n",
       "      <td>0.315</td>\n",
       "      <td>23</td>\n",
       "      <td>0</td>\n",
       "    </tr>\n",
       "  </tbody>\n",
       "</table>\n",
       "</div>"
      ],
      "text/plain": [
       "     Pregnancies  Glucose  BloodPressure  SkinThickness  Insulin   BMI  \\\n",
       "763           10      101             76             48      180  32.9   \n",
       "764            2      122             70             27        0  36.8   \n",
       "765            5      121             72             23      112  26.2   \n",
       "766            1      126             60              0        0  30.1   \n",
       "767            1       93             70             31        0  30.4   \n",
       "\n",
       "     DiabetesPedigreeFunction  Age  Outcome  \n",
       "763                     0.171   63        0  \n",
       "764                     0.340   27        0  \n",
       "765                     0.245   30        0  \n",
       "766                     0.349   47        1  \n",
       "767                     0.315   23        0  "
      ]
     },
     "execution_count": 2,
     "metadata": {},
     "output_type": "execute_result"
    }
   ],
   "source": [
    "#exploring the data\n",
    "df = pd.read_csv('/Users/applecare/desktop/diabetes.csv')\n",
    "\n",
    "\n",
    "df.tail()"
   ]
  },
  {
   "cell_type": "code",
   "execution_count": 3,
   "metadata": {},
   "outputs": [
    {
     "data": {
      "image/png": "[encoded data removed]",
      "text/plain": [
       "<Figure size 432x288 with 9 Axes>"
      ]
     },
     "metadata": {
      "needs_background": "light"
     },
     "output_type": "display_data"
    }
   ],
   "source": [
    "df.hist()\n",
    "plt.show()"
   ]
  },
  {
   "cell_type": "code",
   "execution_count": 4,
   "metadata": {},
   "outputs": [
    {
     "data": {
      "text/html": [
       "<div>\n",
       "<style scoped>\n",
       "    .dataframe tbody tr th:only-of-type {\n",
       "        vertical-align: middle;\n",
       "    }\n",
       "\n",
       "    .dataframe tbody tr th {\n",
       "        vertical-align: top;\n",
       "    }\n",
       "\n",
       "    .dataframe thead th {\n",
       "        text-align: right;\n",
       "    }\n",
       "</style>\n",
       "<table border=\"1\" class=\"dataframe\">\n",
       "  <thead>\n",
       "    <tr style=\"text-align: right;\">\n",
       "      <th></th>\n",
       "      <th>Pregnancies</th>\n",
       "      <th>Glucose</th>\n",
       "      <th>BloodPressure</th>\n",
       "      <th>SkinThickness</th>\n",
       "      <th>Insulin</th>\n",
       "      <th>BMI</th>\n",
       "      <th>DiabetesPedigreeFunction</th>\n",
       "      <th>Age</th>\n",
       "      <th>Outcome</th>\n",
       "    </tr>\n",
       "  </thead>\n",
       "  <tbody>\n",
       "    <tr>\n",
       "      <th>count</th>\n",
       "      <td>768.000000</td>\n",
       "      <td>768.000000</td>\n",
       "      <td>768.000000</td>\n",
       "      <td>768.000000</td>\n",
       "      <td>768.000000</td>\n",
       "      <td>768.000000</td>\n",
       "      <td>768.000000</td>\n",
       "      <td>768.000000</td>\n",
       "      <td>768.000000</td>\n",
       "    </tr>\n",
       "    <tr>\n",
       "      <th>mean</th>\n",
       "      <td>3.845052</td>\n",
       "      <td>120.894531</td>\n",
       "      <td>69.105469</td>\n",
       "      <td>20.536458</td>\n",
       "      <td>79.799479</td>\n",
       "      <td>31.992578</td>\n",
       "      <td>0.471876</td>\n",
       "      <td>33.240885</td>\n",
       "      <td>0.348958</td>\n",
       "    </tr>\n",
       "    <tr>\n",
       "      <th>std</th>\n",
       "      <td>3.369578</td>\n",
       "      <td>31.972618</td>\n",
       "      <td>19.355807</td>\n",
       "      <td>15.952218</td>\n",
       "      <td>115.244002</td>\n",
       "      <td>7.884160</td>\n",
       "      <td>0.331329</td>\n",
       "      <td>11.760232</td>\n",
       "      <td>0.476951</td>\n",
       "    </tr>\n",
       "    <tr>\n",
       "      <th>min</th>\n",
       "      <td>0.000000</td>\n",
       "      <td>0.000000</td>\n",
       "      <td>0.000000</td>\n",
       "      <td>0.000000</td>\n",
       "      <td>0.000000</td>\n",
       "      <td>0.000000</td>\n",
       "      <td>0.078000</td>\n",
       "      <td>21.000000</td>\n",
       "      <td>0.000000</td>\n",
       "    </tr>\n",
       "    <tr>\n",
       "      <th>25%</th>\n",
       "      <td>1.000000</td>\n",
       "      <td>99.000000</td>\n",
       "      <td>62.000000</td>\n",
       "      <td>0.000000</td>\n",
       "      <td>0.000000</td>\n",
       "      <td>27.300000</td>\n",
       "      <td>0.243750</td>\n",
       "      <td>24.000000</td>\n",
       "      <td>0.000000</td>\n",
       "    </tr>\n",
       "    <tr>\n",
       "      <th>50%</th>\n",
       "      <td>3.000000</td>\n",
       "      <td>117.000000</td>\n",
       "      <td>72.000000</td>\n",
       "      <td>23.000000</td>\n",
       "      <td>30.500000</td>\n",
       "      <td>32.000000</td>\n",
       "      <td>0.372500</td>\n",
       "      <td>29.000000</td>\n",
       "      <td>0.000000</td>\n",
       "    </tr>\n",
       "    <tr>\n",
       "      <th>75%</th>\n",
       "      <td>6.000000</td>\n",
       "      <td>140.250000</td>\n",
       "      <td>80.000000</td>\n",
       "      <td>32.000000</td>\n",
       "      <td>127.250000</td>\n",
       "      <td>36.600000</td>\n",
       "      <td>0.626250</td>\n",
       "      <td>41.000000</td>\n",
       "      <td>1.000000</td>\n",
       "    </tr>\n",
       "    <tr>\n",
       "      <th>max</th>\n",
       "      <td>17.000000</td>\n",
       "      <td>199.000000</td>\n",
       "      <td>122.000000</td>\n",
       "      <td>99.000000</td>\n",
       "      <td>846.000000</td>\n",
       "      <td>67.100000</td>\n",
       "      <td>2.420000</td>\n",
       "      <td>81.000000</td>\n",
       "      <td>1.000000</td>\n",
       "    </tr>\n",
       "  </tbody>\n",
       "</table>\n",
       "</div>"
      ],
      "text/plain": [
       "       Pregnancies     Glucose  BloodPressure  SkinThickness     Insulin  \\\n",
       "count   768.000000  768.000000     768.000000     768.000000  768.000000   \n",
       "mean      3.845052  120.894531      69.105469      20.536458   79.799479   \n",
       "std       3.369578   31.972618      19.355807      15.952218  115.244002   \n",
       "min       0.000000    0.000000       0.000000       0.000000    0.000000   \n",
       "25%       1.000000   99.000000      62.000000       0.000000    0.000000   \n",
       "50%       3.000000  117.000000      72.000000      23.000000   30.500000   \n",
       "75%       6.000000  140.250000      80.000000      32.000000  127.250000   \n",
       "max      17.000000  199.000000     122.000000      99.000000  846.000000   \n",
       "\n",
       "              BMI  DiabetesPedigreeFunction         Age     Outcome  \n",
       "count  768.000000                768.000000  768.000000  768.000000  \n",
       "mean    31.992578                  0.471876   33.240885    0.348958  \n",
       "std      7.884160                  0.331329   11.760232    0.476951  \n",
       "min      0.000000                  0.078000   21.000000    0.000000  \n",
       "25%     27.300000                  0.243750   24.000000    0.000000  \n",
       "50%     32.000000                  0.372500   29.000000    0.000000  \n",
       "75%     36.600000                  0.626250   41.000000    1.000000  \n",
       "max     67.100000                  2.420000   81.000000    1.000000  "
      ]
     },
     "execution_count": 4,
     "metadata": {},
     "output_type": "execute_result"
    }
   ],
   "source": [
    "df.describe()"
   ]
  },
  {
   "cell_type": "code",
   "execution_count": 5,
   "metadata": {},
   "outputs": [
    {
     "data": {
      "text/html": [
       "<div>\n",
       "<style scoped>\n",
       "    .dataframe tbody tr th:only-of-type {\n",
       "        vertical-align: middle;\n",
       "    }\n",
       "\n",
       "    .dataframe tbody tr th {\n",
       "        vertical-align: top;\n",
       "    }\n",
       "\n",
       "    .dataframe thead th {\n",
       "        text-align: right;\n",
       "    }\n",
       "</style>\n",
       "<table border=\"1\" class=\"dataframe\">\n",
       "  <thead>\n",
       "    <tr style=\"text-align: right;\">\n",
       "      <th></th>\n",
       "      <th>0</th>\n",
       "    </tr>\n",
       "  </thead>\n",
       "  <tbody>\n",
       "    <tr>\n",
       "      <th>Pregnancies</th>\n",
       "      <td>False</td>\n",
       "    </tr>\n",
       "    <tr>\n",
       "      <th>Glucose</th>\n",
       "      <td>False</td>\n",
       "    </tr>\n",
       "    <tr>\n",
       "      <th>BloodPressure</th>\n",
       "      <td>False</td>\n",
       "    </tr>\n",
       "    <tr>\n",
       "      <th>SkinThickness</th>\n",
       "      <td>False</td>\n",
       "    </tr>\n",
       "    <tr>\n",
       "      <th>Insulin</th>\n",
       "      <td>False</td>\n",
       "    </tr>\n",
       "    <tr>\n",
       "      <th>BMI</th>\n",
       "      <td>False</td>\n",
       "    </tr>\n",
       "    <tr>\n",
       "      <th>DiabetesPedigreeFunction</th>\n",
       "      <td>False</td>\n",
       "    </tr>\n",
       "    <tr>\n",
       "      <th>Age</th>\n",
       "      <td>False</td>\n",
       "    </tr>\n",
       "    <tr>\n",
       "      <th>Outcome</th>\n",
       "      <td>False</td>\n",
       "    </tr>\n",
       "  </tbody>\n",
       "</table>\n",
       "</div>"
      ],
      "text/plain": [
       "                              0\n",
       "Pregnancies               False\n",
       "Glucose                   False\n",
       "BloodPressure             False\n",
       "SkinThickness             False\n",
       "Insulin                   False\n",
       "BMI                       False\n",
       "DiabetesPedigreeFunction  False\n",
       "Age                       False\n",
       "Outcome                   False"
      ]
     },
     "execution_count": 5,
     "metadata": {},
     "output_type": "execute_result"
    }
   ],
   "source": [
    "pd.DataFrame(df.isna().any())"
   ]
  },
  {
   "cell_type": "code",
   "execution_count": 6,
   "metadata": {},
   "outputs": [
    {
     "data": {
      "text/plain": [
       "(768, 9)"
      ]
     },
     "execution_count": 6,
     "metadata": {},
     "output_type": "execute_result"
    }
   ],
   "source": [
    "df.shape"
   ]
  },
  {
   "cell_type": "code",
   "execution_count": 7,
   "metadata": {},
   "outputs": [
    {
     "data": {
      "text/html": [
       "<div>\n",
       "<style scoped>\n",
       "    .dataframe tbody tr th:only-of-type {\n",
       "        vertical-align: middle;\n",
       "    }\n",
       "\n",
       "    .dataframe tbody tr th {\n",
       "        vertical-align: top;\n",
       "    }\n",
       "\n",
       "    .dataframe thead th {\n",
       "        text-align: right;\n",
       "    }\n",
       "</style>\n",
       "<table border=\"1\" class=\"dataframe\">\n",
       "  <thead>\n",
       "    <tr style=\"text-align: right;\">\n",
       "      <th></th>\n",
       "      <th>0</th>\n",
       "    </tr>\n",
       "  </thead>\n",
       "  <tbody>\n",
       "    <tr>\n",
       "      <th>Pregnancies</th>\n",
       "      <td>int64</td>\n",
       "    </tr>\n",
       "    <tr>\n",
       "      <th>Glucose</th>\n",
       "      <td>int64</td>\n",
       "    </tr>\n",
       "    <tr>\n",
       "      <th>BloodPressure</th>\n",
       "      <td>int64</td>\n",
       "    </tr>\n",
       "    <tr>\n",
       "      <th>SkinThickness</th>\n",
       "      <td>int64</td>\n",
       "    </tr>\n",
       "    <tr>\n",
       "      <th>Insulin</th>\n",
       "      <td>int64</td>\n",
       "    </tr>\n",
       "    <tr>\n",
       "      <th>BMI</th>\n",
       "      <td>float64</td>\n",
       "    </tr>\n",
       "    <tr>\n",
       "      <th>DiabetesPedigreeFunction</th>\n",
       "      <td>float64</td>\n",
       "    </tr>\n",
       "    <tr>\n",
       "      <th>Age</th>\n",
       "      <td>int64</td>\n",
       "    </tr>\n",
       "    <tr>\n",
       "      <th>Outcome</th>\n",
       "      <td>int64</td>\n",
       "    </tr>\n",
       "  </tbody>\n",
       "</table>\n",
       "</div>"
      ],
      "text/plain": [
       "                                0\n",
       "Pregnancies                 int64\n",
       "Glucose                     int64\n",
       "BloodPressure               int64\n",
       "SkinThickness               int64\n",
       "Insulin                     int64\n",
       "BMI                       float64\n",
       "DiabetesPedigreeFunction  float64\n",
       "Age                         int64\n",
       "Outcome                     int64"
      ]
     },
     "execution_count": 7,
     "metadata": {},
     "output_type": "execute_result"
    }
   ],
   "source": [
    "pd.DataFrame(df.dtypes)"
   ]
  },
  {
   "cell_type": "code",
   "execution_count": 8,
   "metadata": {},
   "outputs": [
    {
     "name": "stdout",
     "output_type": "stream",
     "text": [
      "1 Pregnancies\n",
      "2 Glucose\n",
      "3 BloodPressure\n",
      "4 SkinThickness\n",
      "5 Insulin\n",
      "6 BMI\n",
      "7 DiabetesPedigreeFunction\n",
      "8 Age\n",
      "9 Outcome\n"
     ]
    }
   ],
   "source": [
    "for idx, col in enumerate(df.columns):\n",
    "    print(idx+1,col)"
   ]
  },
  {
   "cell_type": "code",
   "execution_count": 9,
   "metadata": {},
   "outputs": [
    {
     "data": {
      "image/png": "[encoded data removed]",
      "text/plain": [
       "<Figure size 1440x1152 with 9 Axes>"
      ]
     },
     "metadata": {
      "needs_background": "light"
     },
     "output_type": "display_data"
    }
   ],
   "source": [
    "plt.subplots(3,3, figsize=(20,16))\n",
    "\n",
    "for idx, col in enumerate(df.columns):\n",
    "    ax = plt.subplot(3,3, idx+1)\n",
    "    ax.yaxis.set_ticklabels([])\n",
    "    sns.distplot(df.loc[df['Outcome']==0][col],hist=False, axlabel=False, kde_kws={'linestyle':'-',\n",
    "                                                                            'color':'black',\n",
    "                                                                            'label':'NoDiabetes'})\n",
    "    sns.distplot(df.loc[df['Outcome']==1][col],hist=False, axlabel=False, kde_kws={'linestyle':'--',\n",
    "                                                                            'color':'black',\n",
    "                                                                            'label':'Diabetes'})\n",
    "    ax.set_title(col)\n",
    "     \n",
    "plt.subplot(3,3,9).set_visible(False)\n",
    "    \n",
    "plt.show()\n",
    "\n",
    "\n"
   ]
  },
  {
   "cell_type": "code",
   "execution_count": 10,
   "metadata": {},
   "outputs": [
    {
     "name": "stdout",
     "output_type": "stream",
     "text": [
      "Pregnancies: 111\n",
      "Glucose: 5\n",
      "BloodPressure: 35\n",
      "SkinThickness: 227\n",
      "Insulin: 374\n",
      "BMI: 11\n",
      "DiabetesPedigreeFunction: 0\n",
      "Age: 0\n",
      "Outcome: 500\n"
     ]
    }
   ],
   "source": [
    "for col in df.columns:\n",
    "    missing = df.loc[df[col]==0].shape[0]\n",
    "    print(f'{col}: {missing}')"
   ]
  },
  {
   "cell_type": "code",
   "execution_count": 11,
   "metadata": {},
   "outputs": [],
   "source": [
    "df['BMI'] = df['BMI'].replace(0, np.nan)\n",
    "df['Glucose'] = df['Glucose'].replace(0, np.nan)\n",
    "df['BloodPressure'] = df['BloodPressure'].replace(0, np.nan)\n",
    "df['SkinThickness'] = df['SkinThickness'].replace(0, np.nan)\n",
    "df['Insulin'] = df['Insulin'].replace(0, np.nan)"
   ]
  },
  {
   "cell_type": "code",
   "execution_count": 12,
   "metadata": {},
   "outputs": [
    {
     "data": {
      "text/plain": [
       "Pregnancies                 False\n",
       "Glucose                      True\n",
       "BloodPressure                True\n",
       "SkinThickness                True\n",
       "Insulin                      True\n",
       "BMI                          True\n",
       "DiabetesPedigreeFunction    False\n",
       "Age                         False\n",
       "Outcome                     False\n",
       "dtype: bool"
      ]
     },
     "execution_count": 12,
     "metadata": {},
     "output_type": "execute_result"
    }
   ],
   "source": [
    "df.isna().any()"
   ]
  },
  {
   "cell_type": "code",
   "execution_count": 13,
   "metadata": {},
   "outputs": [],
   "source": [
    "df['BMI'] = df['BMI'].fillna(df['BMI'].mean())\n",
    "df['Glucose'] = df['Glucose'].fillna(df['Glucose'].mean())\n",
    "df['BloodPressure'] = df['BloodPressure'].fillna(df['BloodPressure'].mean())\n",
    "df['SkinThickness'] = df['SkinThickness'].fillna(df['SkinThickness'].mean())\n",
    "df['Insulin'] = df['Insulin'].fillna(df['Insulin'].mean())"
   ]
  },
  {
   "cell_type": "code",
   "execution_count": 14,
   "metadata": {},
   "outputs": [
    {
     "data": {
      "text/plain": [
       "Pregnancies                 False\n",
       "Glucose                     False\n",
       "BloodPressure               False\n",
       "SkinThickness               False\n",
       "Insulin                     False\n",
       "BMI                         False\n",
       "DiabetesPedigreeFunction    False\n",
       "Age                         False\n",
       "Outcome                     False\n",
       "dtype: bool"
      ]
     },
     "execution_count": 14,
     "metadata": {},
     "output_type": "execute_result"
    }
   ],
   "source": [
    "df.isna().any()"
   ]
  },
  {
   "cell_type": "code",
   "execution_count": 15,
   "metadata": {},
   "outputs": [
    {
     "data": {
      "text/plain": [
       "Pregnancies                  0.000\n",
       "Glucose                     44.000\n",
       "BloodPressure               24.000\n",
       "SkinThickness                7.000\n",
       "Insulin                     14.000\n",
       "BMI                         18.200\n",
       "DiabetesPedigreeFunction     0.078\n",
       "Age                         21.000\n",
       "Outcome                      0.000\n",
       "Name: min, dtype: float64"
      ]
     },
     "execution_count": 15,
     "metadata": {},
     "output_type": "execute_result"
    }
   ],
   "source": [
    "df.describe().loc['min']"
   ]
  },
  {
   "cell_type": "code",
   "execution_count": 16,
   "metadata": {},
   "outputs": [],
   "source": [
    "X = df.loc[:, df.columns != 'Outcome']\n",
    "y = df['Outcome']"
   ]
  },
  {
   "cell_type": "code",
   "execution_count": 17,
   "metadata": {},
   "outputs": [
    {
     "data": {
      "text/plain": [
       "array([[ 0.63994726,  0.86510807, -0.03351824, ...,  0.16629174,\n",
       "         0.46849198,  1.4259954 ],\n",
       "       [-0.84488505, -1.20616153, -0.52985903, ..., -0.85253118,\n",
       "        -0.36506078, -0.19067191],\n",
       "       [ 1.23388019,  2.0158134 , -0.69530596, ..., -1.33283341,\n",
       "         0.60439732, -0.10558415],\n",
       "       ...,\n",
       "       [ 0.3429808 , -0.0225789 , -0.03351824, ..., -0.91074963,\n",
       "        -0.68519336, -0.27575966],\n",
       "       [-0.84488505,  0.14180757, -1.02619983, ..., -0.34311972,\n",
       "        -0.37110101,  1.17073215],\n",
       "       [-0.84488505, -0.94314317, -0.19896517, ..., -0.29945588,\n",
       "        -0.47378505, -0.87137393]])"
      ]
     },
     "execution_count": 17,
     "metadata": {},
     "output_type": "execute_result"
    }
   ],
   "source": [
    "scaler = StandardScaler()\n",
    "scaler.fit_transform(X)"
   ]
  },
  {
   "cell_type": "code",
   "execution_count": 18,
   "metadata": {},
   "outputs": [],
   "source": [
    "X_train,X_test,y_train,y_test = train_test_split(X,y, test_size=0.2)\n",
    "X_train,X_val,y_train,y_val = train_test_split(X_train,y_train, test_size=0.2)\n"
   ]
  },
  {
   "cell_type": "code",
   "execution_count": 19,
   "metadata": {},
   "outputs": [
    {
     "name": "stdout",
     "output_type": "stream",
     "text": [
      "Epoch 1/200\n",
      "16/16 [==============================] - 1s 1ms/step - loss: 4.3013 - accuracy: 0.4757\n",
      "Epoch 2/200\n",
      "16/16 [==============================] - 0s 1ms/step - loss: 1.3422 - accuracy: 0.5583\n",
      "Epoch 3/200\n",
      "16/16 [==============================] - 0s 1ms/step - loss: 1.0712 - accuracy: 0.5677\n",
      "Epoch 4/200\n",
      "16/16 [==============================] - 0s 9ms/step - loss: 0.8921 - accuracy: 0.5512\n",
      "Epoch 5/200\n",
      "16/16 [==============================] - 0s 2ms/step - loss: 0.8070 - accuracy: 0.6067\n",
      "Epoch 6/200\n",
      "16/16 [==============================] - 0s 2ms/step - loss: 0.7861 - accuracy: 0.5827\n",
      "Epoch 7/200\n",
      "16/16 [==============================] - 0s 4ms/step - loss: 0.6949 - accuracy: 0.6521\n",
      "Epoch 8/200\n",
      "16/16 [==============================] - 0s 3ms/step - loss: 0.7191 - accuracy: 0.6198\n",
      "Epoch 9/200\n",
      "16/16 [==============================] - 0s 2ms/step - loss: 0.7669 - accuracy: 0.6511\n",
      "Epoch 10/200\n",
      "16/16 [==============================] - 0s 2ms/step - loss: 0.8351 - accuracy: 0.6016\n",
      "Epoch 11/200\n",
      "16/16 [==============================] - 0s 3ms/step - loss: 0.7427 - accuracy: 0.6311\n",
      "Epoch 12/200\n",
      "16/16 [==============================] - 0s 2ms/step - loss: 0.7306 - accuracy: 0.6420\n",
      "Epoch 13/200\n",
      "16/16 [==============================] - 0s 2ms/step - loss: 0.6324 - accuracy: 0.6844\n",
      "Epoch 14/200\n",
      "16/16 [==============================] - 0s 2ms/step - loss: 0.7043 - accuracy: 0.6453\n",
      "Epoch 15/200\n",
      "16/16 [==============================] - 0s 3ms/step - loss: 0.6399 - accuracy: 0.6842\n",
      "Epoch 16/200\n",
      "16/16 [==============================] - 0s 1ms/step - loss: 0.5981 - accuracy: 0.7239\n",
      "Epoch 17/200\n",
      "16/16 [==============================] - 0s 2ms/step - loss: 0.5940 - accuracy: 0.6749\n",
      "Epoch 18/200\n",
      "16/16 [==============================] - 0s 2ms/step - loss: 0.6496 - accuracy: 0.6530\n",
      "Epoch 19/200\n",
      "16/16 [==============================] - 0s 2ms/step - loss: 0.5631 - accuracy: 0.7115\n",
      "Epoch 20/200\n",
      "16/16 [==============================] - 0s 2ms/step - loss: 0.5669 - accuracy: 0.7216\n",
      "Epoch 21/200\n",
      "16/16 [==============================] - 0s 2ms/step - loss: 0.5328 - accuracy: 0.7291\n",
      "Epoch 22/200\n",
      "16/16 [==============================] - 0s 2ms/step - loss: 0.5396 - accuracy: 0.7493\n",
      "Epoch 23/200\n",
      "16/16 [==============================] - 0s 1ms/step - loss: 0.5510 - accuracy: 0.7237\n",
      "Epoch 24/200\n",
      "16/16 [==============================] - 0s 2ms/step - loss: 0.6222 - accuracy: 0.6604\n",
      "Epoch 25/200\n",
      "16/16 [==============================] - 0s 1ms/step - loss: 0.6055 - accuracy: 0.6689\n",
      "Epoch 26/200\n",
      "16/16 [==============================] - 0s 2ms/step - loss: 0.7013 - accuracy: 0.6368\n",
      "Epoch 27/200\n",
      "16/16 [==============================] - 0s 2ms/step - loss: 0.6391 - accuracy: 0.6858\n",
      "Epoch 28/200\n",
      "16/16 [==============================] - 0s 2ms/step - loss: 0.5860 - accuracy: 0.7097\n",
      "Epoch 29/200\n",
      "16/16 [==============================] - 0s 2ms/step - loss: 0.6349 - accuracy: 0.6893\n",
      "Epoch 30/200\n",
      "16/16 [==============================] - 0s 2ms/step - loss: 0.5428 - accuracy: 0.7290\n",
      "Epoch 31/200\n",
      "16/16 [==============================] - 0s 2ms/step - loss: 0.7609 - accuracy: 0.6134\n",
      "Epoch 32/200\n",
      "16/16 [==============================] - 0s 1ms/step - loss: 0.5751 - accuracy: 0.7019\n",
      "Epoch 33/200\n",
      "16/16 [==============================] - 0s 2ms/step - loss: 0.5422 - accuracy: 0.7258\n",
      "Epoch 34/200\n",
      "16/16 [==============================] - 0s 1ms/step - loss: 0.5908 - accuracy: 0.7343\n",
      "Epoch 35/200\n",
      "16/16 [==============================] - 0s 2ms/step - loss: 0.5652 - accuracy: 0.7093\n",
      "Epoch 36/200\n",
      "16/16 [==============================] - 0s 2ms/step - loss: 0.5784 - accuracy: 0.7113\n",
      "Epoch 37/200\n",
      "16/16 [==============================] - 0s 2ms/step - loss: 0.5661 - accuracy: 0.7278\n",
      "Epoch 38/200\n",
      "16/16 [==============================] - 0s 1ms/step - loss: 0.5017 - accuracy: 0.7385\n",
      "Epoch 39/200\n",
      "16/16 [==============================] - 0s 1ms/step - loss: 0.5368 - accuracy: 0.7069\n",
      "Epoch 40/200\n",
      "16/16 [==============================] - 0s 2ms/step - loss: 0.5659 - accuracy: 0.6972\n",
      "Epoch 41/200\n",
      "16/16 [==============================] - 0s 7ms/step - loss: 0.5412 - accuracy: 0.7099\n",
      "Epoch 42/200\n",
      "16/16 [==============================] - 0s 6ms/step - loss: 0.6181 - accuracy: 0.6908\n",
      "Epoch 43/200\n",
      "16/16 [==============================] - 0s 3ms/step - loss: 0.5373 - accuracy: 0.7073\n",
      "Epoch 44/200\n",
      "16/16 [==============================] - 0s 2ms/step - loss: 0.5302 - accuracy: 0.7322\n",
      "Epoch 45/200\n",
      "16/16 [==============================] - 0s 2ms/step - loss: 0.4995 - accuracy: 0.7265\n",
      "Epoch 46/200\n",
      "16/16 [==============================] - 0s 2ms/step - loss: 0.5389 - accuracy: 0.7121\n",
      "Epoch 47/200\n",
      "16/16 [==============================] - 0s 2ms/step - loss: 0.5237 - accuracy: 0.7314\n",
      "Epoch 48/200\n",
      "16/16 [==============================] - 0s 3ms/step - loss: 0.6103 - accuracy: 0.6881\n",
      "Epoch 49/200\n",
      "16/16 [==============================] - 0s 2ms/step - loss: 0.5243 - accuracy: 0.7490\n",
      "Epoch 50/200\n",
      "16/16 [==============================] - 0s 2ms/step - loss: 0.5371 - accuracy: 0.7263\n",
      "Epoch 51/200\n",
      "16/16 [==============================] - 0s 2ms/step - loss: 0.5774 - accuracy: 0.7054\n",
      "Epoch 52/200\n",
      "16/16 [==============================] - 0s 2ms/step - loss: 0.6156 - accuracy: 0.6727\n",
      "Epoch 53/200\n",
      "16/16 [==============================] - 0s 2ms/step - loss: 0.8500 - accuracy: 0.5999\n",
      "Epoch 54/200\n",
      "16/16 [==============================] - 0s 2ms/step - loss: 0.5542 - accuracy: 0.6958\n",
      "Epoch 55/200\n",
      "16/16 [==============================] - 0s 2ms/step - loss: 0.6722 - accuracy: 0.6751\n",
      "Epoch 56/200\n",
      "16/16 [==============================] - 0s 2ms/step - loss: 0.5633 - accuracy: 0.7131\n",
      "Epoch 57/200\n",
      "16/16 [==============================] - 0s 3ms/step - loss: 0.5056 - accuracy: 0.7339\n",
      "Epoch 58/200\n",
      "16/16 [==============================] - 0s 1ms/step - loss: 0.6262 - accuracy: 0.6878\n",
      "Epoch 59/200\n",
      "16/16 [==============================] - 0s 953us/step - loss: 0.6013 - accuracy: 0.7202\n",
      "Epoch 60/200\n",
      "16/16 [==============================] - 0s 968us/step - loss: 0.7444 - accuracy: 0.6457\n",
      "Epoch 61/200\n",
      "16/16 [==============================] - 0s 6ms/step - loss: 0.7112 - accuracy: 0.6256\n",
      "Epoch 62/200\n",
      "16/16 [==============================] - 0s 2ms/step - loss: 0.5068 - accuracy: 0.7472\n",
      "Epoch 63/200\n",
      "16/16 [==============================] - 0s 2ms/step - loss: 0.5333 - accuracy: 0.7442\n",
      "Epoch 64/200\n",
      "16/16 [==============================] - 0s 2ms/step - loss: 0.5715 - accuracy: 0.7046\n",
      "Epoch 65/200\n",
      "16/16 [==============================] - 0s 3ms/step - loss: 0.4598 - accuracy: 0.7590\n",
      "Epoch 66/200\n",
      "16/16 [==============================] - 0s 2ms/step - loss: 0.5269 - accuracy: 0.7536\n",
      "Epoch 67/200\n",
      "16/16 [==============================] - 0s 2ms/step - loss: 0.5237 - accuracy: 0.7420\n",
      "Epoch 68/200\n",
      "16/16 [==============================] - 0s 1ms/step - loss: 0.5408 - accuracy: 0.7147\n",
      "Epoch 69/200\n",
      "16/16 [==============================] - 0s 1ms/step - loss: 0.6263 - accuracy: 0.6749\n",
      "Epoch 70/200\n",
      "16/16 [==============================] - 0s 1ms/step - loss: 0.6321 - accuracy: 0.6913\n",
      "Epoch 71/200\n",
      "16/16 [==============================] - 0s 962us/step - loss: 0.5365 - accuracy: 0.7466\n",
      "Epoch 72/200\n",
      "16/16 [==============================] - 0s 887us/step - loss: 0.5259 - accuracy: 0.7279\n",
      "Epoch 73/200\n",
      "16/16 [==============================] - 0s 1ms/step - loss: 0.4780 - accuracy: 0.7497\n",
      "Epoch 74/200\n",
      "16/16 [==============================] - 0s 1ms/step - loss: 0.4962 - accuracy: 0.7433\n",
      "Epoch 75/200\n",
      "16/16 [==============================] - 0s 7ms/step - loss: 0.5148 - accuracy: 0.7519\n",
      "Epoch 76/200\n",
      "16/16 [==============================] - 0s 2ms/step - loss: 0.5428 - accuracy: 0.7505\n",
      "Epoch 77/200\n",
      "16/16 [==============================] - 0s 2ms/step - loss: 0.6339 - accuracy: 0.6908\n",
      "Epoch 78/200\n",
      "16/16 [==============================] - 0s 2ms/step - loss: 0.5006 - accuracy: 0.7681\n",
      "Epoch 79/200\n",
      "16/16 [==============================] - 0s 4ms/step - loss: 0.6086 - accuracy: 0.7206\n",
      "Epoch 80/200\n",
      "16/16 [==============================] - 0s 2ms/step - loss: 0.5384 - accuracy: 0.7249\n",
      "Epoch 81/200\n",
      "16/16 [==============================] - 0s 2ms/step - loss: 0.4946 - accuracy: 0.7399\n",
      "Epoch 82/200\n"
     ]
    },
    {
     "name": "stdout",
     "output_type": "stream",
     "text": [
      "16/16 [==============================] - 0s 2ms/step - loss: 0.5145 - accuracy: 0.7336\n",
      "Epoch 83/200\n",
      "16/16 [==============================] - 0s 2ms/step - loss: 0.4710 - accuracy: 0.7509\n",
      "Epoch 84/200\n",
      "16/16 [==============================] - 0s 2ms/step - loss: 0.4886 - accuracy: 0.7391\n",
      "Epoch 85/200\n",
      "16/16 [==============================] - 0s 2ms/step - loss: 0.5461 - accuracy: 0.7328\n",
      "Epoch 86/200\n",
      "16/16 [==============================] - 0s 3ms/step - loss: 0.5431 - accuracy: 0.7233\n",
      "Epoch 87/200\n",
      "16/16 [==============================] - 0s 2ms/step - loss: 0.4787 - accuracy: 0.7462\n",
      "Epoch 88/200\n",
      "16/16 [==============================] - 0s 2ms/step - loss: 0.5108 - accuracy: 0.7576\n",
      "Epoch 89/200\n",
      "16/16 [==============================] - 0s 2ms/step - loss: 0.5739 - accuracy: 0.7267\n",
      "Epoch 90/200\n",
      "16/16 [==============================] - 0s 1ms/step - loss: 0.4846 - accuracy: 0.7645\n",
      "Epoch 91/200\n",
      "16/16 [==============================] - 0s 2ms/step - loss: 0.5304 - accuracy: 0.7353\n",
      "Epoch 92/200\n",
      "16/16 [==============================] - 0s 1ms/step - loss: 0.4818 - accuracy: 0.7638\n",
      "Epoch 93/200\n",
      "16/16 [==============================] - 0s 2ms/step - loss: 0.4399 - accuracy: 0.7823\n",
      "Epoch 94/200\n",
      "16/16 [==============================] - 0s 2ms/step - loss: 0.5104 - accuracy: 0.7585\n",
      "Epoch 95/200\n",
      "16/16 [==============================] - 0s 1ms/step - loss: 0.5277 - accuracy: 0.7222\n",
      "Epoch 96/200\n",
      "16/16 [==============================] - 0s 1ms/step - loss: 0.4842 - accuracy: 0.7642\n",
      "Epoch 97/200\n",
      "16/16 [==============================] - 0s 1ms/step - loss: 0.5396 - accuracy: 0.7455\n",
      "Epoch 98/200\n",
      "16/16 [==============================] - 0s 1ms/step - loss: 0.5998 - accuracy: 0.7012\n",
      "Epoch 99/200\n",
      "16/16 [==============================] - 0s 1ms/step - loss: 0.4905 - accuracy: 0.7608\n",
      "Epoch 100/200\n",
      "16/16 [==============================] - 0s 2ms/step - loss: 0.4924 - accuracy: 0.7555\n",
      "Epoch 101/200\n",
      "16/16 [==============================] - 0s 3ms/step - loss: 0.4774 - accuracy: 0.7390\n",
      "Epoch 102/200\n",
      "16/16 [==============================] - 0s 3ms/step - loss: 0.4864 - accuracy: 0.7432\n",
      "Epoch 103/200\n",
      "16/16 [==============================] - 0s 2ms/step - loss: 0.5249 - accuracy: 0.7495\n",
      "Epoch 104/200\n",
      "16/16 [==============================] - 0s 2ms/step - loss: 0.5047 - accuracy: 0.7609\n",
      "Epoch 105/200\n",
      "16/16 [==============================] - 0s 2ms/step - loss: 0.5814 - accuracy: 0.7275\n",
      "Epoch 106/200\n",
      "16/16 [==============================] - 0s 2ms/step - loss: 0.4932 - accuracy: 0.7519\n",
      "Epoch 107/200\n",
      "16/16 [==============================] - 0s 2ms/step - loss: 0.5136 - accuracy: 0.7577\n",
      "Epoch 108/200\n",
      "16/16 [==============================] - 0s 2ms/step - loss: 0.5121 - accuracy: 0.7196\n",
      "Epoch 109/200\n",
      "16/16 [==============================] - 0s 1ms/step - loss: 0.5302 - accuracy: 0.7516\n",
      "Epoch 110/200\n",
      "16/16 [==============================] - 0s 1ms/step - loss: 0.5665 - accuracy: 0.7215\n",
      "Epoch 111/200\n",
      "16/16 [==============================] - 0s 1ms/step - loss: 0.5131 - accuracy: 0.7540\n",
      "Epoch 112/200\n",
      "16/16 [==============================] - 0s 2ms/step - loss: 0.6668 - accuracy: 0.6951\n",
      "Epoch 113/200\n",
      "16/16 [==============================] - 0s 2ms/step - loss: 0.6012 - accuracy: 0.7453\n",
      "Epoch 114/200\n",
      "16/16 [==============================] - 0s 4ms/step - loss: 0.5345 - accuracy: 0.7063\n",
      "Epoch 115/200\n",
      "16/16 [==============================] - 0s 2ms/step - loss: 0.4771 - accuracy: 0.7304\n",
      "Epoch 116/200\n",
      "16/16 [==============================] - 0s 1ms/step - loss: 0.4665 - accuracy: 0.7529\n",
      "Epoch 117/200\n",
      "16/16 [==============================] - 0s 2ms/step - loss: 0.5415 - accuracy: 0.7453\n",
      "Epoch 118/200\n",
      "16/16 [==============================] - 0s 1ms/step - loss: 0.4495 - accuracy: 0.7873\n",
      "Epoch 119/200\n",
      "16/16 [==============================] - 0s 2ms/step - loss: 0.6025 - accuracy: 0.6879\n",
      "Epoch 120/200\n",
      "16/16 [==============================] - 0s 3ms/step - loss: 0.5173 - accuracy: 0.7220\n",
      "Epoch 121/200\n",
      "16/16 [==============================] - 0s 4ms/step - loss: 0.4913 - accuracy: 0.7616\n",
      "Epoch 122/200\n",
      "16/16 [==============================] - 0s 2ms/step - loss: 0.5993 - accuracy: 0.7241\n",
      "Epoch 123/200\n",
      "16/16 [==============================] - 0s 2ms/step - loss: 0.5280 - accuracy: 0.7371\n",
      "Epoch 124/200\n",
      "16/16 [==============================] - 0s 2ms/step - loss: 0.5223 - accuracy: 0.7247\n",
      "Epoch 125/200\n",
      "16/16 [==============================] - 0s 1ms/step - loss: 0.6851 - accuracy: 0.7001\n",
      "Epoch 126/200\n",
      "16/16 [==============================] - 0s 2ms/step - loss: 0.5676 - accuracy: 0.7179\n",
      "Epoch 127/200\n",
      "16/16 [==============================] - 0s 1ms/step - loss: 0.4830 - accuracy: 0.7648\n",
      "Epoch 128/200\n",
      "16/16 [==============================] - 0s 2ms/step - loss: 0.5603 - accuracy: 0.7210\n",
      "Epoch 129/200\n",
      "16/16 [==============================] - 0s 2ms/step - loss: 0.4781 - accuracy: 0.7721\n",
      "Epoch 130/200\n",
      "16/16 [==============================] - 0s 2ms/step - loss: 0.4432 - accuracy: 0.7741\n",
      "Epoch 131/200\n",
      "16/16 [==============================] - 0s 2ms/step - loss: 0.4607 - accuracy: 0.7621\n",
      "Epoch 132/200\n",
      "16/16 [==============================] - 0s 2ms/step - loss: 0.4796 - accuracy: 0.7489\n",
      "Epoch 133/200\n",
      "16/16 [==============================] - 0s 3ms/step - loss: 0.4709 - accuracy: 0.7497\n",
      "Epoch 134/200\n",
      "16/16 [==============================] - 0s 2ms/step - loss: 0.5166 - accuracy: 0.7449\n",
      "Epoch 135/200\n",
      "16/16 [==============================] - 0s 2ms/step - loss: 0.5302 - accuracy: 0.7554\n",
      "Epoch 136/200\n",
      "16/16 [==============================] - 0s 2ms/step - loss: 0.4663 - accuracy: 0.7594\n",
      "Epoch 137/200\n",
      "16/16 [==============================] - 0s 2ms/step - loss: 0.4647 - accuracy: 0.7682\n",
      "Epoch 138/200\n",
      "16/16 [==============================] - 0s 1ms/step - loss: 0.4910 - accuracy: 0.7538\n",
      "Epoch 139/200\n",
      "16/16 [==============================] - 0s 1ms/step - loss: 0.4995 - accuracy: 0.7246\n",
      "Epoch 140/200\n",
      "16/16 [==============================] - 0s 1ms/step - loss: 0.5470 - accuracy: 0.7534\n",
      "Epoch 141/200\n",
      "16/16 [==============================] - 0s 2ms/step - loss: 0.4863 - accuracy: 0.7419\n",
      "Epoch 142/200\n",
      "16/16 [==============================] - 0s 1ms/step - loss: 0.4394 - accuracy: 0.7925\n",
      "Epoch 143/200\n",
      "16/16 [==============================] - 0s 2ms/step - loss: 0.4590 - accuracy: 0.7625\n",
      "Epoch 144/200\n",
      "16/16 [==============================] - 0s 1ms/step - loss: 0.5471 - accuracy: 0.7332\n",
      "Epoch 145/200\n",
      "16/16 [==============================] - 0s 2ms/step - loss: 0.4597 - accuracy: 0.7509\n",
      "Epoch 146/200\n",
      "16/16 [==============================] - 0s 2ms/step - loss: 0.4947 - accuracy: 0.7532\n",
      "Epoch 147/200\n",
      "16/16 [==============================] - 0s 2ms/step - loss: 0.4471 - accuracy: 0.7688\n",
      "Epoch 148/200\n",
      "16/16 [==============================] - 0s 2ms/step - loss: 0.4526 - accuracy: 0.7514\n",
      "Epoch 149/200\n",
      "16/16 [==============================] - 0s 1ms/step - loss: 0.4809 - accuracy: 0.7458\n",
      "Epoch 150/200\n",
      "16/16 [==============================] - 0s 2ms/step - loss: 0.4607 - accuracy: 0.7489\n",
      "Epoch 151/200\n",
      "16/16 [==============================] - 0s 1ms/step - loss: 0.5265 - accuracy: 0.7189\n",
      "Epoch 152/200\n",
      "16/16 [==============================] - 0s 2ms/step - loss: 0.6234 - accuracy: 0.7126\n",
      "Epoch 153/200\n",
      "16/16 [==============================] - 0s 1ms/step - loss: 0.6290 - accuracy: 0.7242\n",
      "Epoch 154/200\n",
      "16/16 [==============================] - 0s 1ms/step - loss: 0.5258 - accuracy: 0.7169\n",
      "Epoch 155/200\n",
      "16/16 [==============================] - 0s 2ms/step - loss: 0.5218 - accuracy: 0.7352\n",
      "Epoch 156/200\n",
      "16/16 [==============================] - 0s 2ms/step - loss: 0.4315 - accuracy: 0.7742\n",
      "Epoch 157/200\n",
      "16/16 [==============================] - 0s 3ms/step - loss: 0.5147 - accuracy: 0.7293\n",
      "Epoch 158/200\n",
      "16/16 [==============================] - 0s 2ms/step - loss: 0.5070 - accuracy: 0.7566\n",
      "Epoch 159/200\n",
      "16/16 [==============================] - 0s 1ms/step - loss: 0.4639 - accuracy: 0.7645\n",
      "Epoch 160/200\n",
      "16/16 [==============================] - 0s 1ms/step - loss: 0.4676 - accuracy: 0.7604\n",
      "Epoch 161/200\n",
      "16/16 [==============================] - 0s 1ms/step - loss: 0.4921 - accuracy: 0.7364\n",
      "Epoch 162/200\n",
      "16/16 [==============================] - 0s 1ms/step - loss: 0.5018 - accuracy: 0.7323\n",
      "Epoch 163/200\n"
     ]
    },
    {
     "name": "stdout",
     "output_type": "stream",
     "text": [
      "16/16 [==============================] - 0s 2ms/step - loss: 0.4499 - accuracy: 0.7718\n",
      "Epoch 164/200\n",
      "16/16 [==============================] - 0s 1ms/step - loss: 0.4968 - accuracy: 0.7521\n",
      "Epoch 165/200\n",
      "16/16 [==============================] - 0s 1ms/step - loss: 0.5179 - accuracy: 0.7454\n",
      "Epoch 166/200\n",
      "16/16 [==============================] - 0s 2ms/step - loss: 0.4904 - accuracy: 0.7662\n",
      "Epoch 167/200\n",
      "16/16 [==============================] - 0s 1ms/step - loss: 0.4502 - accuracy: 0.7913\n",
      "Epoch 168/200\n",
      "16/16 [==============================] - 0s 1ms/step - loss: 0.5136 - accuracy: 0.7631\n",
      "Epoch 169/200\n",
      "16/16 [==============================] - 0s 1ms/step - loss: 0.5512 - accuracy: 0.7098\n",
      "Epoch 170/200\n",
      "16/16 [==============================] - 0s 1ms/step - loss: 0.4782 - accuracy: 0.7509\n",
      "Epoch 171/200\n",
      "16/16 [==============================] - 0s 2ms/step - loss: 0.4081 - accuracy: 0.7923\n",
      "Epoch 172/200\n",
      "16/16 [==============================] - 0s 1ms/step - loss: 0.4811 - accuracy: 0.7430\n",
      "Epoch 173/200\n",
      "16/16 [==============================] - 0s 2ms/step - loss: 0.4447 - accuracy: 0.7949\n",
      "Epoch 174/200\n",
      "16/16 [==============================] - 0s 6ms/step - loss: 0.4561 - accuracy: 0.7692\n",
      "Epoch 175/200\n",
      "16/16 [==============================] - 0s 2ms/step - loss: 0.4600 - accuracy: 0.7701\n",
      "Epoch 176/200\n",
      "16/16 [==============================] - 0s 2ms/step - loss: 0.4435 - accuracy: 0.7874\n",
      "Epoch 177/200\n",
      "16/16 [==============================] - 0s 2ms/step - loss: 0.4619 - accuracy: 0.7576\n",
      "Epoch 178/200\n",
      "16/16 [==============================] - 0s 2ms/step - loss: 0.5072 - accuracy: 0.7430\n",
      "Epoch 179/200\n",
      "16/16 [==============================] - 0s 2ms/step - loss: 0.4719 - accuracy: 0.7499\n",
      "Epoch 180/200\n",
      "16/16 [==============================] - 0s 2ms/step - loss: 0.4454 - accuracy: 0.7919\n",
      "Epoch 181/200\n",
      "16/16 [==============================] - 0s 3ms/step - loss: 0.4571 - accuracy: 0.7589\n",
      "Epoch 182/200\n",
      "16/16 [==============================] - 0s 2ms/step - loss: 0.5142 - accuracy: 0.7309\n",
      "Epoch 183/200\n",
      "16/16 [==============================] - 0s 2ms/step - loss: 0.5346 - accuracy: 0.7416\n",
      "Epoch 184/200\n",
      "16/16 [==============================] - 0s 2ms/step - loss: 0.4792 - accuracy: 0.7636\n",
      "Epoch 185/200\n",
      "16/16 [==============================] - 0s 2ms/step - loss: 0.5661 - accuracy: 0.7020\n",
      "Epoch 186/200\n",
      "16/16 [==============================] - 0s 2ms/step - loss: 0.4419 - accuracy: 0.8060\n",
      "Epoch 187/200\n",
      "16/16 [==============================] - 0s 2ms/step - loss: 0.4453 - accuracy: 0.7731\n",
      "Epoch 188/200\n",
      "16/16 [==============================] - 0s 2ms/step - loss: 0.4888 - accuracy: 0.7419\n",
      "Epoch 189/200\n",
      "16/16 [==============================] - 0s 3ms/step - loss: 0.4542 - accuracy: 0.7653\n",
      "Epoch 190/200\n",
      "16/16 [==============================] - 0s 2ms/step - loss: 0.4968 - accuracy: 0.7621\n",
      "Epoch 191/200\n",
      "16/16 [==============================] - 0s 2ms/step - loss: 0.5957 - accuracy: 0.6915\n",
      "Epoch 192/200\n",
      "16/16 [==============================] - 0s 2ms/step - loss: 0.6399 - accuracy: 0.7001\n",
      "Epoch 193/200\n",
      "16/16 [==============================] - 0s 2ms/step - loss: 0.7573 - accuracy: 0.6631\n",
      "Epoch 194/200\n",
      "16/16 [==============================] - 0s 2ms/step - loss: 0.5213 - accuracy: 0.7767\n",
      "Epoch 195/200\n",
      "16/16 [==============================] - 0s 2ms/step - loss: 0.4275 - accuracy: 0.8068\n",
      "Epoch 196/200\n",
      "16/16 [==============================] - 0s 2ms/step - loss: 0.5201 - accuracy: 0.7646\n",
      "Epoch 197/200\n",
      "16/16 [==============================] - 0s 2ms/step - loss: 0.5383 - accuracy: 0.7678\n",
      "Epoch 198/200\n",
      "16/16 [==============================] - 0s 2ms/step - loss: 0.4317 - accuracy: 0.7830\n",
      "Epoch 199/200\n",
      "16/16 [==============================] - 0s 2ms/step - loss: 0.4510 - accuracy: 0.7791\n",
      "Epoch 200/200\n",
      "16/16 [==============================] - 0s 2ms/step - loss: 0.4289 - accuracy: 0.7969\n"
     ]
    },
    {
     "data": {
      "text/plain": [
       "<tensorflow.python.keras.callbacks.History at 0x7fefbb2f44c0>"
      ]
     },
     "execution_count": 19,
     "metadata": {},
     "output_type": "execute_result"
    }
   ],
   "source": [
    "#keras model\n",
    "model = Sequential()\n",
    "\n",
    "model.add(Dense(input_dim=8, units=64, activation='relu'))\n",
    "model.add(Dense(units=32, activation='relu'))\n",
    "model.add(Dense(units=1, activation='sigmoid'))\n",
    "\n",
    "model.compile(optimizer='adam', loss='binary_crossentropy', metrics=['accuracy'])\n",
    "\n",
    "#lets train our model for 200 iterations\n",
    "model.fit(X_train,y_train, epochs=200)"
   ]
  },
  {
   "cell_type": "code",
   "execution_count": 20,
   "metadata": {},
   "outputs": [
    {
     "data": {
      "text/plain": [
       "SVC(kernel='linear')"
      ]
     },
     "execution_count": 20,
     "metadata": {},
     "output_type": "execute_result"
    }
   ],
   "source": [
    "#support vector machine model\n",
    "classifier = svm.SVC(kernel='linear')\n",
    "classifier.fit(X_train, y_train)\n"
   ]
  },
  {
   "cell_type": "code",
   "execution_count": 21,
   "metadata": {
    "scrolled": true
   },
   "outputs": [
    {
     "data": {
      "text/html": [
       "<div>\n",
       "<style scoped>\n",
       "    .dataframe tbody tr th:only-of-type {\n",
       "        vertical-align: middle;\n",
       "    }\n",
       "\n",
       "    .dataframe tbody tr th {\n",
       "        vertical-align: top;\n",
       "    }\n",
       "\n",
       "    .dataframe thead th {\n",
       "        text-align: right;\n",
       "    }\n",
       "</style>\n",
       "<table border=\"1\" class=\"dataframe\">\n",
       "  <thead>\n",
       "    <tr style=\"text-align: right;\">\n",
       "      <th></th>\n",
       "      <th>Predicted</th>\n",
       "      <th>Actual</th>\n",
       "    </tr>\n",
       "  </thead>\n",
       "  <tbody>\n",
       "    <tr>\n",
       "      <th>40</th>\n",
       "      <td>1</td>\n",
       "      <td>0</td>\n",
       "    </tr>\n",
       "    <tr>\n",
       "      <th>521</th>\n",
       "      <td>0</td>\n",
       "      <td>0</td>\n",
       "    </tr>\n",
       "    <tr>\n",
       "      <th>22</th>\n",
       "      <td>1</td>\n",
       "      <td>1</td>\n",
       "    </tr>\n",
       "    <tr>\n",
       "      <th>142</th>\n",
       "      <td>0</td>\n",
       "      <td>0</td>\n",
       "    </tr>\n",
       "    <tr>\n",
       "      <th>592</th>\n",
       "      <td>0</td>\n",
       "      <td>1</td>\n",
       "    </tr>\n",
       "    <tr>\n",
       "      <th>722</th>\n",
       "      <td>0</td>\n",
       "      <td>1</td>\n",
       "    </tr>\n",
       "    <tr>\n",
       "      <th>381</th>\n",
       "      <td>0</td>\n",
       "      <td>0</td>\n",
       "    </tr>\n",
       "    <tr>\n",
       "      <th>114</th>\n",
       "      <td>1</td>\n",
       "      <td>1</td>\n",
       "    </tr>\n",
       "    <tr>\n",
       "      <th>362</th>\n",
       "      <td>0</td>\n",
       "      <td>0</td>\n",
       "    </tr>\n",
       "    <tr>\n",
       "      <th>520</th>\n",
       "      <td>0</td>\n",
       "      <td>0</td>\n",
       "    </tr>\n",
       "  </tbody>\n",
       "</table>\n",
       "</div>"
      ],
      "text/plain": [
       "     Predicted  Actual\n",
       "40           1       0\n",
       "521          0       0\n",
       "22           1       1\n",
       "142          0       0\n",
       "592          0       1\n",
       "722          0       1\n",
       "381          0       0\n",
       "114          1       1\n",
       "362          0       0\n",
       "520          0       0"
      ]
     },
     "execution_count": 21,
     "metadata": {},
     "output_type": "execute_result"
    }
   ],
   "source": [
    "y_train_pred = classifier.predict(X_train)\n",
    "pd.DataFrame({'Predicted':y_train_pred, 'Actual':y_train})[:10]"
   ]
  },
  {
   "cell_type": "code",
   "execution_count": 22,
   "metadata": {
    "scrolled": true
   },
   "outputs": [
    {
     "data": {
      "text/plain": [
       "0.7597402597402597"
      ]
     },
     "execution_count": 22,
     "metadata": {},
     "output_type": "execute_result"
    }
   ],
   "source": [
    "#evaluation on svm model\n",
    "y_test_predicte = classifier.predict(X_test)\n",
    "acc_score = accuracy_score(y_test, y_test_predicte)\n",
    "acc_score"
   ]
  },
  {
   "cell_type": "code",
   "execution_count": 23,
   "metadata": {},
   "outputs": [
    {
     "name": "stdout",
     "output_type": "stream",
     "text": [
      "5/5 [==============================] - 0s 4ms/step - loss: 0.7630 - accuracy: 0.6948\n",
      "score: 69.48%\n"
     ]
    }
   ],
   "source": [
    "#evaluating  \n",
    "\n",
    "accuracy_score = model.evaluate(X_test, y_test)\n",
    "print('score: %.2f%%' %(accuracy_score[1]*100))"
   ]
  },
  {
   "cell_type": "code",
   "execution_count": 24,
   "metadata": {
    "scrolled": true
   },
   "outputs": [
    {
     "data": {
      "text/plain": [
       "<AxesSubplot:>"
      ]
     },
     "execution_count": 24,
     "metadata": {},
     "output_type": "execute_result"
    },
    {
     "data": {
      "image/png": "[encoded data removed]",
      "text/plain": [
       "<Figure size 432x288 with 1 Axes>"
      ]
     },
     "metadata": {
      "needs_background": "light"
     },
     "output_type": "display_data"
    }
   ],
   "source": [
    "#evaluating using Sequential model\n",
    "y_test_prediction = model.predict_classes(X_test)\n",
    "conf_matrix = confusion_matrix(y_test,y_test_prediction)\n",
    "sns.heatmap(conf_matrix, cmap ='Blues',annot=True, cbar=False, xticklabels=['No Diabetes', 'Diabetes'], yticklabels=['No Diabetes','Diabetes'])\n"
   ]
  },
  {
   "cell_type": "code",
   "execution_count": 25,
   "metadata": {},
   "outputs": [
    {
     "data": {
      "text/plain": [
       "array([[99,  4],\n",
       "       [43,  8]])"
      ]
     },
     "execution_count": 25,
     "metadata": {},
     "output_type": "execute_result"
    }
   ],
   "source": [
    "conf_matrix"
   ]
  },
  {
   "cell_type": "code",
   "execution_count": 26,
   "metadata": {},
   "outputs": [
    {
     "data": {
      "image/png": "[encoded data removed]",
      "text/plain": [
       "<Figure size 432x288 with 1 Axes>"
      ]
     },
     "metadata": {
      "needs_background": "light"
     },
     "output_type": "display_data"
    }
   ],
   "source": [
    "y_test_predict = model.predict(X_test)\n",
    "tpr,fpr,_, = roc_curve(y_test,y_test_predict)\n",
    "\n",
    "plt.plot(tpr,fpr)\n",
    "plt.plot([0,1],[0,1],'--',color='black')\n",
    "\n",
    "\n",
    "plt.show()"
   ]
  },
  {
   "cell_type": "code",
   "execution_count": 27,
   "metadata": {},
   "outputs": [
    {
     "data": {
      "text/html": [
       "<div>\n",
       "<style scoped>\n",
       "    .dataframe tbody tr th:only-of-type {\n",
       "        vertical-align: middle;\n",
       "    }\n",
       "\n",
       "    .dataframe tbody tr th {\n",
       "        vertical-align: top;\n",
       "    }\n",
       "\n",
       "    .dataframe thead th {\n",
       "        text-align: right;\n",
       "    }\n",
       "</style>\n",
       "<table border=\"1\" class=\"dataframe\">\n",
       "  <thead>\n",
       "    <tr style=\"text-align: right;\">\n",
       "      <th></th>\n",
       "      <th>Predicted</th>\n",
       "      <th>Actual</th>\n",
       "    </tr>\n",
       "  </thead>\n",
       "  <tbody>\n",
       "    <tr>\n",
       "      <th>40</th>\n",
       "      <td>0</td>\n",
       "      <td>0</td>\n",
       "    </tr>\n",
       "    <tr>\n",
       "      <th>521</th>\n",
       "      <td>0</td>\n",
       "      <td>0</td>\n",
       "    </tr>\n",
       "    <tr>\n",
       "      <th>22</th>\n",
       "      <td>1</td>\n",
       "      <td>1</td>\n",
       "    </tr>\n",
       "    <tr>\n",
       "      <th>142</th>\n",
       "      <td>0</td>\n",
       "      <td>0</td>\n",
       "    </tr>\n",
       "    <tr>\n",
       "      <th>592</th>\n",
       "      <td>0</td>\n",
       "      <td>1</td>\n",
       "    </tr>\n",
       "    <tr>\n",
       "      <th>722</th>\n",
       "      <td>1</td>\n",
       "      <td>1</td>\n",
       "    </tr>\n",
       "    <tr>\n",
       "      <th>381</th>\n",
       "      <td>0</td>\n",
       "      <td>0</td>\n",
       "    </tr>\n",
       "    <tr>\n",
       "      <th>114</th>\n",
       "      <td>1</td>\n",
       "      <td>1</td>\n",
       "    </tr>\n",
       "    <tr>\n",
       "      <th>362</th>\n",
       "      <td>0</td>\n",
       "      <td>0</td>\n",
       "    </tr>\n",
       "    <tr>\n",
       "      <th>520</th>\n",
       "      <td>0</td>\n",
       "      <td>0</td>\n",
       "    </tr>\n",
       "  </tbody>\n",
       "</table>\n",
       "</div>"
      ],
      "text/plain": [
       "     Predicted  Actual\n",
       "40           0       0\n",
       "521          0       0\n",
       "22           1       1\n",
       "142          0       0\n",
       "592          0       1\n",
       "722          1       1\n",
       "381          0       0\n",
       "114          1       1\n",
       "362          0       0\n",
       "520          0       0"
      ]
     },
     "execution_count": 27,
     "metadata": {},
     "output_type": "execute_result"
    }
   ],
   "source": [
    "y_train_prediction = model.predict_classes(X_train).reshape(-1,)\n",
    "pd.DataFrame({'Predicted':y_train_prediction, 'Actual':y_train})[:10]"
   ]
  },
  {
   "cell_type": "code",
   "execution_count": 28,
   "metadata": {},
   "outputs": [
    {
     "data": {
      "text/plain": [
       "array([1.00e+01, 1.01e+02, 7.60e+01, 4.80e+01, 1.80e+02, 3.29e+01,\n",
       "       1.71e-01, 6.30e+01])"
      ]
     },
     "execution_count": 28,
     "metadata": {},
     "output_type": "execute_result"
    }
   ],
   "source": [
    "X = np.array([10,101,76,48,180,32.9,0.171,63])\n",
    "X"
   ]
  },
  {
   "cell_type": "code",
   "execution_count": null,
   "metadata": {},
   "outputs": [],
   "source": []
  },
  {
   "cell_type": "code",
   "execution_count": null,
   "metadata": {},
   "outputs": [],
   "source": []
  },
  {
   "cell_type": "code",
   "execution_count": null,
   "metadata": {},
   "outputs": [],
   "source": []
  }
 ],
 "metadata": {
  "kernelspec": {
   "display_name": "Python 3",
   "language": "python",
   "name": "python3"
  },
  "language_info": {
   "codemirror_mode": {
    "name": "ipython",
    "version": 3
   },
   "file_extension": ".py",
   "mimetype": "text/x-python",
   "name": "python",
   "nbconvert_exporter": "python",
   "pygments_lexer": "ipython3",
   "version": "3.8.5"
  }
 },
 "nbformat": 4,
 "nbformat_minor": 4
}
